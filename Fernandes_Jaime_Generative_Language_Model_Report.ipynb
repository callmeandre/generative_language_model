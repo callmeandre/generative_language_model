{
 "cells": [
  {
   "cell_type": "markdown",
   "metadata": {},
   "source": [
    "# w266 Summer 2019 - Final Project: Generative Language Model\n",
    "\n",
    "by Andre Fernandes and Miguel Jaime\n",
    "\n",
    "Date: August 2nd, 2019\n",
    "\n",
    "**Note:** As the Neural Network models' training require high training time, we used a GPU and saved the model objects in a repository. In addition, most of our code is functionalized and stored in `utils/functions.py` which we load into this notebook. This allowed us to work more collaboratively on the code and also keep this notebook clean.\n",
    "\n",
    "# Abstract\n",
    "\n",
    "\n",
    "# Introduction\n",
    "\n",
    "\n",
    "\n",
    "## Report Outline\n",
    "\n",
    "Our analysis as summarized in this Jupyter Notebook is structured as follows: "
   ]
  },
  {
   "cell_type": "code",
   "execution_count": 2,
   "metadata": {},
   "outputs": [
    {
     "name": "stderr",
     "output_type": "stream",
     "text": [
      "Using TensorFlow backend.\n"
     ]
    }
   ],
   "source": [
    "%matplotlib inline\n",
    "import os\n",
    "import warnings\n",
    "warnings.filterwarnings('ignore')\n",
    "import importlib\n",
    "import utils.functions as custom_functions\n",
    "import matplotlib.pyplot as plt\n",
    "import numpy as np\n",
    "from keras.models import load_model\n",
    "from IPython.display import Image\n",
    "workDir = os.getcwd()"
   ]
  },
  {
   "cell_type": "code",
   "execution_count": null,
   "metadata": {},
   "outputs": [],
   "source": []
  }
 ],
 "metadata": {
  "kernelspec": {
   "display_name": "Python 3",
   "language": "python",
   "name": "python3"
  },
  "language_info": {
   "codemirror_mode": {
    "name": "ipython",
    "version": 3
   },
   "file_extension": ".py",
   "mimetype": "text/x-python",
   "name": "python",
   "nbconvert_exporter": "python",
   "pygments_lexer": "ipython3",
   "version": "3.6.5"
  }
 },
 "nbformat": 4,
 "nbformat_minor": 2
}
