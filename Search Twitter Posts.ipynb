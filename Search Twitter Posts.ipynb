{
 "cells": [
  {
   "cell_type": "code",
   "execution_count": 3,
   "metadata": {},
   "outputs": [
    {
     "name": "stdout",
     "output_type": "stream",
     "text": [
      "{'created_at': 'Fri Jul 26 10:05:26 +0000 2019', 'id': 1154694207250010112, 'id_str': '1154694207250010112', 'text': '@08MiKowitsch15 Perfekt, Johannes Gutenberg war der erste, der Bücher mit beweglichen Lettern druckte. Weltbekannt… https://t.co/M1ywyWJVtx', 'truncated': True, 'entities': {'hashtags': [], 'symbols': [], 'user_mentions': [{'screen_name': '08MiKowitsch15', 'name': 'Michael König', 'id': 2647281672, 'id_str': '2647281672', 'indices': [0, 15]}], 'urls': [{'url': 'https://t.co/M1ywyWJVtx', 'expanded_url': 'https://twitter.com/i/web/status/1154694207250010112', 'display_url': 'twitter.com/i/web/status/1…', 'indices': [116, 139]}]}, 'metadata': {'iso_language_code': 'de', 'result_type': 'recent'}, 'source': '<a href=\"https://mobile.twitter.com\" rel=\"nofollow\">Twitter Web App</a>', 'in_reply_to_status_id': 1154688771918618625, 'in_reply_to_status_id_str': '1154688771918618625', 'in_reply_to_user_id': 2647281672, 'in_reply_to_user_id_str': '2647281672', 'in_reply_to_screen_name': '08MiKowitsch15', 'user': {'id': 1251344851, 'id_str': '1251344851', 'name': 'ɧistomania.com 🏛️', 'screen_name': 'Histum', 'location': 'München, Bayern', 'description': 'Der kostenlose Online-Browser für Geschichte und aktuelle Ereignisse. #Geschichte #Zeitgeschichte #OnThisDay #Rätsel #Quiz #Zeitstrahl #Timeline', 'url': 'https://t.co/SPAHscVy27', 'entities': {'url': {'urls': [{'url': 'https://t.co/SPAHscVy27', 'expanded_url': 'https://www.histomania.com', 'display_url': 'histomania.com', 'indices': [0, 23]}]}, 'description': {'urls': []}}, 'protected': False, 'followers_count': 254, 'friends_count': 253, 'listed_count': 9, 'created_at': 'Fri Mar 08 10:16:45 +0000 2013', 'favourites_count': 706, 'utc_offset': None, 'time_zone': None, 'geo_enabled': False, 'verified': False, 'statuses_count': 474, 'lang': None, 'contributors_enabled': False, 'is_translator': False, 'is_translation_enabled': False, 'profile_background_color': '000000', 'profile_background_image_url': 'http://abs.twimg.com/images/themes/theme1/bg.png', 'profile_background_image_url_https': 'https://abs.twimg.com/images/themes/theme1/bg.png', 'profile_background_tile': False, 'profile_image_url': 'http://pbs.twimg.com/profile_images/1128958583239073792/F1SJEfVE_normal.png', 'profile_image_url_https': 'https://pbs.twimg.com/profile_images/1128958583239073792/F1SJEfVE_normal.png', 'profile_banner_url': 'https://pbs.twimg.com/profile_banners/1251344851/1555008134', 'profile_link_color': '1B95E0', 'profile_sidebar_border_color': '000000', 'profile_sidebar_fill_color': '000000', 'profile_text_color': '000000', 'profile_use_background_image': False, 'has_extended_profile': False, 'default_profile': False, 'default_profile_image': False, 'following': False, 'follow_request_sent': False, 'notifications': False, 'translator_type': 'none'}, 'geo': None, 'coordinates': None, 'place': None, 'contributors': None, 'is_quote_status': False, 'retweet_count': 0, 'favorite_count': 1, 'favorited': False, 'retweeted': False, 'lang': 'de'}\n",
      "@Histum tweeted: @08MiKowitsch15 Perfekt, Johannes Gutenberg war der erste, der Bücher mit beweglichen Lettern druckte. Weltbekannt… https://t.co/M1ywyWJVtx\n"
     ]
    }
   ],
   "source": [
    "from TwitterSearch import *\n",
    "try:\n",
    "    tso = TwitterSearchOrder() # create a TwitterSearchOrder object\n",
    "    tso.set_keywords(['Guttenberg', 'Doktorarbeit']) # let's define all words we would like to have a look for\n",
    "    tso.set_language('de') # we want to see German tweets only\n",
    "    tso.set_include_entities(True) # and don't give us all those entity information\n",
    "\n",
    "    ts = TwitterSearch(\n",
    "        consumer_key = 'VFMa4V6ZFcOblmGEDWR2QJbwq',\n",
    "        consumer_secret = 'rTj4IAPNGUcpi7mVLHa2kdt58VXxk8qWzrbtjga8bVF3ay2f5m',\n",
    "        access_token = '33344041-SkTqNFM9reyHCWpKLspJ1TZx3Wq73WeLC3Ucsbu9p',\n",
    "        access_token_secret = 'WcG1sjJELfuTSFs0ZKehAFhRiIP8d5lNlGZOfmHUvvcNS'\n",
    "     )\n",
    "\n",
    "     # this is where the fun actually starts :)\n",
    "    for tweet in ts.search_tweets_iterable(tso):\n",
    "        print(tweet)\n",
    "        print( '@%s tweeted: %s' % ( tweet['user']['screen_name'], tweet['text'] ) )\n",
    "\n",
    "except TwitterSearchException as e: # take care of all those ugly errors if there are some\n",
    "    print(e)"
   ]
  }
 ],
 "metadata": {
  "kernelspec": {
   "display_name": "Python 3",
   "language": "python",
   "name": "python3"
  },
  "language_info": {
   "codemirror_mode": {
    "name": "ipython",
    "version": 3
   },
   "file_extension": ".py",
   "mimetype": "text/x-python",
   "name": "python",
   "nbconvert_exporter": "python",
   "pygments_lexer": "ipython3",
   "version": "3.7.0"
  }
 },
 "nbformat": 4,
 "nbformat_minor": 2
}
