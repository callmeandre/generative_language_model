{
 "cells": [
  {
   "cell_type": "code",
   "execution_count": 1,
   "metadata": {},
   "outputs": [
    {
     "name": "stderr",
     "output_type": "stream",
     "text": [
      "Using TensorFlow backend.\n",
      "WARNING: Logging before flag parsing goes to stderr.\n",
      "W0803 03:11:47.208156 140407180023616 deprecation_wrapper.py:119] From /home/migueljaime/anaconda3/lib/python3.7/site-packages/bert/optimization.py:87: The name tf.train.Optimizer is deprecated. Please use tf.compat.v1.train.Optimizer instead.\n",
      "\n"
     ]
    }
   ],
   "source": [
    "import os\n",
    "# workDir = os.path.join(os.getcwd(), \"generative_language_model\")\n",
    "workDir = os.getcwd()\n",
    "workDir\n",
    "\n",
    "%matplotlib inline\n",
    "import warnings\n",
    "warnings.filterwarnings('ignore')\n",
    "import importlib\n",
    "#import generative_language_model.utils.functions as custom_functions\n",
    "import utils.functions as custom_functions\n",
    "import matplotlib.pyplot as plt\n",
    "import numpy as np\n",
    "from keras.models import load_model\n",
    "from IPython.display import Image\n",
    "import bert\n",
    "from bert import run_classifier, optimization, tokenization\n",
    "\n",
    "import re\n",
    "from bert.tokenization import FullTokenizer\n",
    "from tqdm import tqdm_notebook\n",
    "from tensorflow.keras import backend as K\n",
    "\n",
    "from sklearn.model_selection import train_test_split\n",
    "import pandas as pd\n",
    "import tensorflow as tf\n",
    "import tensorflow_hub as hub\n",
    "from datetime import datetime\n",
    "from tensorflow import keras\n",
    "import pickle"
   ]
  },
  {
   "cell_type": "code",
   "execution_count": 2,
   "metadata": {},
   "outputs": [
    {
     "data": {
      "text/plain": [
       "<module 'utils.functions' from '/home/migueljaime/generative_language_model/utils/functions.py'>"
      ]
     },
     "execution_count": 2,
     "metadata": {},
     "output_type": "execute_result"
    }
   ],
   "source": [
    "import imp\n",
    "imp.reload(custom_functions)"
   ]
  },
  {
   "cell_type": "code",
   "execution_count": 74,
   "metadata": {},
   "outputs": [],
   "source": [
    "def is_popular(val, threshold):\n",
    "    if int(val) > threshold: new_val = 1\n",
    "    else: new_val = 0\n",
    "    return int(new_val)\n",
    "\n",
    "def read_and_process_data(dfs, visualize=False):\n",
    "    ''' remove RTs, truncated tweetns, and duplicates\n",
    "    \n",
    "    :param df: a list of dataframes with twitter data\n",
    "      to process\n",
    "    :optional visualize: display scatterplot of data before\n",
    "      and after cleanup, defaults to False\n",
    "    :return clean_df: a cleaned & merged twitter dataset\n",
    "    '''    \n",
    "    \n",
    "    for df in dfs:\n",
    "        print(df.count())\n",
    "    \n",
    "    comp_df = pd.concat(dfs).drop_duplicates().reset_index(drop=True)\n",
    "    print('combined dfs with no dupes is {}'.format(comp_df['tweet'].count()))\n",
    "        \n",
    "    if visualize:\n",
    "        comp_df.plot.scatter(x='fav', y='rt')\n",
    "    \n",
    "    comp_df = comp_df[comp_df['truncated'] == False]\n",
    "    print('combined dfs with no truncated is {}'.format(comp_df['tweet'].count()))\n",
    "    \n",
    "    deduped_df = comp_df.drop_duplicates(subset='tweet')\n",
    "    print('combined dfs with no dupe tweets is {}'.format(deduped_df['tweet'].count()))\n",
    "    \n",
    "    deduped_no_rts_df = deduped_df[~deduped_df['tweet'].str.startswith('RT @')]\n",
    "    print('combined dfs with no retweets is {}'.format(deduped_no_rts_df['tweet'].count()))\n",
    "    \n",
    "    deduped_no_rts_df['is_popular'] = deduped_no_rts_df['fav'].apply(lambda x: is_popular(x, 25))\n",
    "    \n",
    "    deduped_no_rts_df.rename(columns={\"tweet\": \"body\"}, inplace=True)\n",
    "    display(deduped_no_rts_df.head())\n",
    "    if visualize:\n",
    "        deduped_no_rts_df.plot.scatter(x='fav', y='rt', c='is_popular', cmap='viridis', alpha=0.5)\n",
    "        \n",
    "    return(deduped_no_rts_df)"
   ]
  },
  {
   "cell_type": "code",
   "execution_count": 76,
   "metadata": {},
   "outputs": [
    {
     "name": "stdout",
     "output_type": "stream",
     "text": [
      "screen_name    36589\n",
      "fav            36589\n",
      "rt             36589\n",
      "tweet          36589\n",
      "truncated      36589\n",
      "tweet_url      36589\n",
      "dtype: int64\n",
      "screen_name    13828\n",
      "fav            13828\n",
      "rt             13828\n",
      "tweet          13828\n",
      "truncated      13828\n",
      "tweet_url      13828\n",
      "dtype: int64\n",
      "combined dfs with no dupes is 50186\n",
      "combined dfs with no truncated is 32206\n",
      "combined dfs with no dupe tweets is 22410\n",
      "combined dfs with no retweets is 11127\n"
     ]
    },
    {
     "data": {
      "text/html": [
       "<div>\n",
       "<style scoped>\n",
       "    .dataframe tbody tr th:only-of-type {\n",
       "        vertical-align: middle;\n",
       "    }\n",
       "\n",
       "    .dataframe tbody tr th {\n",
       "        vertical-align: top;\n",
       "    }\n",
       "\n",
       "    .dataframe thead th {\n",
       "        text-align: right;\n",
       "    }\n",
       "</style>\n",
       "<table border=\"1\" class=\"dataframe\">\n",
       "  <thead>\n",
       "    <tr style=\"text-align: right;\">\n",
       "      <th></th>\n",
       "      <th>screen_name</th>\n",
       "      <th>fav</th>\n",
       "      <th>rt</th>\n",
       "      <th>body</th>\n",
       "      <th>truncated</th>\n",
       "      <th>tweet_url</th>\n",
       "      <th>is_popular</th>\n",
       "    </tr>\n",
       "  </thead>\n",
       "  <tbody>\n",
       "    <tr>\n",
       "      <th>4</th>\n",
       "      <td>gabe_soflawless</td>\n",
       "      <td>0</td>\n",
       "      <td>0</td>\n",
       "      <td>I want more. I’m craving more. To learn. To gr...</td>\n",
       "      <td>False</td>\n",
       "      <td>https://twitter.com/gabe_soflawless/status/115...</td>\n",
       "      <td>0</td>\n",
       "    </tr>\n",
       "    <tr>\n",
       "      <th>8</th>\n",
       "      <td>RDUTechEvents</td>\n",
       "      <td>0</td>\n",
       "      <td>0</td>\n",
       "      <td>Come to the @splat_space meetup tomorrow at Sp...</td>\n",
       "      <td>False</td>\n",
       "      <td>https://twitter.com/RDUTechEvents/status/11573...</td>\n",
       "      <td>0</td>\n",
       "    </tr>\n",
       "    <tr>\n",
       "      <th>22</th>\n",
       "      <td>jaxjas</td>\n",
       "      <td>0</td>\n",
       "      <td>0</td>\n",
       "      <td>@plumaria1 @realDonaldTrump I would not be the...</td>\n",
       "      <td>False</td>\n",
       "      <td>https://twitter.com/jaxjas/status/115735940454...</td>\n",
       "      <td>0</td>\n",
       "    </tr>\n",
       "    <tr>\n",
       "      <th>29</th>\n",
       "      <td>gabriellubowa</td>\n",
       "      <td>1</td>\n",
       "      <td>1</td>\n",
       "      <td>@D_e_l_i_j_a_h Learn to create your own happin...</td>\n",
       "      <td>False</td>\n",
       "      <td>https://twitter.com/gabriellubowa/status/11573...</td>\n",
       "      <td>0</td>\n",
       "    </tr>\n",
       "    <tr>\n",
       "      <th>31</th>\n",
       "      <td>BrandsWhat</td>\n",
       "      <td>0</td>\n",
       "      <td>0</td>\n",
       "      <td>What brands can learn from accountants</td>\n",
       "      <td>False</td>\n",
       "      <td>https://twitter.com/BrandsWhat/status/11573593...</td>\n",
       "      <td>0</td>\n",
       "    </tr>\n",
       "  </tbody>\n",
       "</table>\n",
       "</div>"
      ],
      "text/plain": [
       "        screen_name fav rt                                               body  \\\n",
       "4   gabe_soflawless   0  0  I want more. I’m craving more. To learn. To gr...   \n",
       "8     RDUTechEvents   0  0  Come to the @splat_space meetup tomorrow at Sp...   \n",
       "22           jaxjas   0  0  @plumaria1 @realDonaldTrump I would not be the...   \n",
       "29    gabriellubowa   1  1  @D_e_l_i_j_a_h Learn to create your own happin...   \n",
       "31       BrandsWhat   0  0             What brands can learn from accountants   \n",
       "\n",
       "   truncated                                          tweet_url  is_popular  \n",
       "4      False  https://twitter.com/gabe_soflawless/status/115...           0  \n",
       "8      False  https://twitter.com/RDUTechEvents/status/11573...           0  \n",
       "22     False  https://twitter.com/jaxjas/status/115735940454...           0  \n",
       "29     False  https://twitter.com/gabriellubowa/status/11573...           0  \n",
       "31     False  https://twitter.com/BrandsWhat/status/11573593...           0  "
      ]
     },
     "metadata": {},
     "output_type": "display_data"
    },
    {
     "data": {
      "text/plain": [
       "screen_name    11127\n",
       "fav            11127\n",
       "rt             11127\n",
       "body           11127\n",
       "truncated      11127\n",
       "tweet_url      11127\n",
       "is_popular     11127\n",
       "dtype: int64"
      ]
     },
     "metadata": {},
     "output_type": "display_data"
    },
    {
     "data": {
      "text/plain": [
       "(11127, 7)"
      ]
     },
     "execution_count": 76,
     "metadata": {},
     "output_type": "execute_result"
    }
   ],
   "source": [
    "regular_tweets = pd.read_csv('data/with_trunc_regular_tweets_36590.csv')\n",
    "popular_tweets = pd.read_csv('data/with_trunc_popular_tweets_13828.csv')\n",
    "\n",
    "regular_tweets = regular_tweets[(regular_tweets['truncated'] == True) | (regular_tweets['truncated'] == False)]\n",
    "\n",
    "df_data = read_and_process_data([regular_tweets, popular_tweets])\n",
    "display(df_data.count())\n",
    "df_data.to_csv('data/all_tweets_clean_v2.csv', index=False)\n",
    "df_data.shape\n"
   ]
  },
  {
   "cell_type": "markdown",
   "metadata": {},
   "source": [
    "# Loading Up BERT Model"
   ]
  },
  {
   "cell_type": "code",
   "execution_count": 77,
   "metadata": {},
   "outputs": [],
   "source": [
    "# Initialize session\n",
    "sess = tf.Session()\n",
    "\n",
    "# Params for bert model and tokenization\n",
    "bert_path = \"https://tfhub.dev/google/bert_uncased_L-12_H-768_A-12/1\"\n",
    "max_seq_length = 150"
   ]
  },
  {
   "cell_type": "code",
   "execution_count": 78,
   "metadata": {},
   "outputs": [],
   "source": [
    "max_seq_length = 70\n",
    "\n",
    "train_df, test_df = train_test_split(df_data, test_size=0.3)\n",
    "file_twitter = open(os.path.join(workDir, \"data/twitter_train_test_smaller_v2.pkl\"),'wb')\n",
    "\n",
    "pickle.dump(train_df, file_twitter)\n",
    "pickle.dump(test_df, file_twitter)\n",
    "\n",
    "file_twitter.close()"
   ]
  },
  {
   "cell_type": "code",
   "execution_count": 79,
   "metadata": {},
   "outputs": [],
   "source": [
    "train_text, train_label = custom_functions.create_labeled_data(train_df, text_col='body', max_seq_length=max_seq_length)\n",
    "test_text, test_label = custom_functions.create_labeled_data(test_df, text_col='body', max_seq_length=max_seq_length)"
   ]
  },
  {
   "cell_type": "code",
   "execution_count": 80,
   "metadata": {},
   "outputs": [],
   "source": [
    "## run the class functions\n",
    "class PaddingInputExample(object):\n",
    "    \"\"\"Fake example so the num input examples is a multiple of the batch size.\n",
    "  When running eval/predict on the TPU, we need to pad the number of examples\n",
    "  to be a multiple of the batch size, because the TPU requires a fixed batch\n",
    "  size. The alternative is to drop the last batch, which is bad because it means\n",
    "  the entire output data won't be generated.\n",
    "  We use this class instead of `None` because treating `None` as padding\n",
    "  battches could cause silent errors.\n",
    "  \"\"\"\n",
    "\n",
    "class InputExample(object):\n",
    "    \"\"\"A single training/test example for simple sequence classification.\"\"\"\n",
    "\n",
    "    def __init__(self, guid, text_a, text_b=None, label=None):\n",
    "        \"\"\"Constructs a InputExample.\n",
    "    Args:\n",
    "      guid: Unique id for the example.\n",
    "      text_a: string. The untokenized text of the first sequence. For single\n",
    "        sequence tasks, only this sequence must be specified.\n",
    "      text_b: (Optional) string. The untokenized text of the second sequence.\n",
    "        Only must be specified for sequence pair tasks.\n",
    "      label: (Optional) string. The label of the example. This should be\n",
    "        specified for train and dev examples, but not for test examples.\n",
    "    \"\"\"\n",
    "        self.guid = guid\n",
    "        self.text_a = text_a\n",
    "        self.text_b = text_b\n",
    "        self.label = label\n",
    "\n",
    "def create_tokenizer_from_hub_module():\n",
    "    \"\"\"Get the vocab file and casing info from the Hub module.\"\"\"\n",
    "    bert_module =  hub.Module(bert_path)\n",
    "    tokenization_info = bert_module(signature=\"tokenization_info\", as_dict=True)\n",
    "    vocab_file, do_lower_case = sess.run(\n",
    "        [\n",
    "            tokenization_info[\"vocab_file\"],\n",
    "            tokenization_info[\"do_lower_case\"],\n",
    "        ]\n",
    "    )\n",
    "\n",
    "    return FullTokenizer(vocab_file=vocab_file, do_lower_case=do_lower_case)\n",
    "\n",
    "def convert_single_example(tokenizer, example, max_seq_length=70):\n",
    "    \"\"\"Converts a single `InputExample` into a single `InputFeatures`.\"\"\"\n",
    "\n",
    "    if isinstance(example, PaddingInputExample):\n",
    "        input_ids = [0] * max_seq_length\n",
    "        input_mask = [0] * max_seq_length\n",
    "        segment_ids = [0] * max_seq_length\n",
    "        label = 0\n",
    "        return input_ids, input_mask, segment_ids, label\n",
    "\n",
    "    tokens_a = tokenizer.tokenize(example.text_a)\n",
    "    if len(tokens_a) > max_seq_length - 2:\n",
    "        tokens_a = tokens_a[0 : (max_seq_length - 2)]\n",
    "\n",
    "    tokens = []\n",
    "    segment_ids = []\n",
    "    tokens.append(\"[CLS]\")\n",
    "    segment_ids.append(0)\n",
    "    for token in tokens_a:\n",
    "        tokens.append(token)\n",
    "        segment_ids.append(0)\n",
    "    tokens.append(\"[SEP]\")\n",
    "    segment_ids.append(0)\n",
    "\n",
    "    input_ids = tokenizer.convert_tokens_to_ids(tokens)\n",
    "\n",
    "    # The mask has 1 for real tokens and 0 for padding tokens. Only real\n",
    "    # tokens are attended to.\n",
    "    input_mask = [1] * len(input_ids)\n",
    "\n",
    "    # Zero-pad up to the sequence length.\n",
    "    while len(input_ids) < max_seq_length:\n",
    "        input_ids.append(0)\n",
    "        input_mask.append(0)\n",
    "        segment_ids.append(0)\n",
    "\n",
    "    assert len(input_ids) == max_seq_length\n",
    "    assert len(input_mask) == max_seq_length\n",
    "    assert len(segment_ids) == max_seq_length\n",
    "\n",
    "    return input_ids, input_mask, segment_ids, example.label\n",
    "\n",
    "def convert_examples_to_features(tokenizer, examples, max_seq_length=70):\n",
    "    \"\"\"Convert a set of `InputExample`s to a list of `InputFeatures`.\"\"\"\n",
    "\n",
    "    input_ids, input_masks, segment_ids, labels = [], [], [], []\n",
    "    for example in tqdm_notebook(examples, desc=\"Converting examples to features\"):\n",
    "        input_id, input_mask, segment_id, label = convert_single_example(\n",
    "            tokenizer, example, max_seq_length\n",
    "        )\n",
    "        input_ids.append(input_id)\n",
    "        input_masks.append(input_mask)\n",
    "        segment_ids.append(segment_id)\n",
    "        labels.append(label)\n",
    "    return (\n",
    "        np.array(input_ids),\n",
    "        np.array(input_masks),\n",
    "        np.array(segment_ids),\n",
    "        np.array(labels).reshape(-1, 1),\n",
    "    )\n",
    "\n",
    "def convert_text_to_examples(texts, labels):\n",
    "    \"\"\"Create InputExamples\"\"\"\n",
    "    InputExamples = []\n",
    "    for text, label in zip(texts, labels):\n",
    "        InputExamples.append(\n",
    "            InputExample(guid=None, text_a=\" \".join(text), text_b=None, label=label)\n",
    "        )\n",
    "    return InputExamples"
   ]
  },
  {
   "cell_type": "code",
   "execution_count": 81,
   "metadata": {},
   "outputs": [
    {
     "name": "stderr",
     "output_type": "stream",
     "text": [
      "W0803 03:39:46.639094 140407180023616 deprecation_wrapper.py:119] From /home/migueljaime/anaconda3/lib/python3.7/site-packages/bert/tokenization.py:125: The name tf.gfile.GFile is deprecated. Please use tf.io.gfile.GFile instead.\n",
      "\n"
     ]
    },
    {
     "data": {
      "application/vnd.jupyter.widget-view+json": {
       "model_id": "8ee36d52741a4ea4bd074d1c6263a771",
       "version_major": 2,
       "version_minor": 0
      },
      "text/plain": [
       "HBox(children=(IntProgress(value=0, description='Converting examples to features', max=7788), HTML(value='')))"
      ]
     },
     "metadata": {},
     "output_type": "display_data"
    },
    {
     "name": "stdout",
     "output_type": "stream",
     "text": [
      "\n"
     ]
    },
    {
     "data": {
      "application/vnd.jupyter.widget-view+json": {
       "model_id": "712a6b812e5b4bc29457196c1e0c2e53",
       "version_major": 2,
       "version_minor": 0
      },
      "text/plain": [
       "HBox(children=(IntProgress(value=0, description='Converting examples to features', max=3339), HTML(value='')))"
      ]
     },
     "metadata": {},
     "output_type": "display_data"
    },
    {
     "name": "stdout",
     "output_type": "stream",
     "text": [
      "\n"
     ]
    }
   ],
   "source": [
    "# Instantiate tokenizer\n",
    "tokenizer = create_tokenizer_from_hub_module()\n",
    "\n",
    "## tokeninze and the rest of preprocessing for bert\n",
    "# Convert data to InputExample format\n",
    "train_examples = convert_text_to_examples(train_text, train_label)\n",
    "# Convert to features\n",
    "(train_input_ids, train_input_masks, train_segment_ids, train_labels \n",
    ") = convert_examples_to_features(tokenizer, train_examples, max_seq_length=max_seq_length)\n",
    "\n",
    "# Convert data to InputExample format\n",
    "test_examples = convert_text_to_examples(test_text, test_label)\n",
    "# Convert to features\n",
    "(test_input_ids, test_input_masks, test_segment_ids, test_labels\n",
    ") = convert_examples_to_features(tokenizer, test_examples, max_seq_length=max_seq_length)\n",
    "\n",
    "## pickle save these\n",
    "final_file = open(os.path.join(workDir, \"data/processed_twitter_train_small_v2.pkl\"),'wb')\n",
    "\n",
    "pickle.dump(train_input_ids, final_file)\n",
    "pickle.dump(train_input_masks, final_file)\n",
    "pickle.dump(train_segment_ids, final_file)\n",
    "pickle.dump(train_labels, final_file)\n",
    "\n",
    "final_file.close()\n",
    "\n",
    "final_file = open(os.path.join(workDir, \"data/processed_twitter_test_small_v2.pkl\"),'wb')\n",
    "\n",
    "pickle.dump(test_input_ids, final_file)\n",
    "pickle.dump(test_input_masks, final_file)\n",
    "pickle.dump(test_segment_ids, final_file)\n",
    "pickle.dump(test_labels, final_file)\n",
    "\n",
    "final_file.close()\n"
   ]
  }
 ],
 "metadata": {
  "kernelspec": {
   "display_name": "Python 3",
   "language": "python",
   "name": "python3"
  },
  "language_info": {
   "codemirror_mode": {
    "name": "ipython",
    "version": 3
   },
   "file_extension": ".py",
   "mimetype": "text/x-python",
   "name": "python",
   "nbconvert_exporter": "python",
   "pygments_lexer": "ipython3",
   "version": "3.7.0"
  }
 },
 "nbformat": 4,
 "nbformat_minor": 2
}
