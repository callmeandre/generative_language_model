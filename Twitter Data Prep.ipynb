{
 "cells": [
  {
   "cell_type": "code",
   "execution_count": 1,
   "metadata": {},
   "outputs": [
    {
     "name": "stderr",
     "output_type": "stream",
     "text": [
      "Using TensorFlow backend.\n",
      "WARNING: Logging before flag parsing goes to stderr.\n",
      "W0801 13:55:38.082360 139872115574592 deprecation_wrapper.py:119] From /home/migueljaime/anaconda3/lib/python3.7/site-packages/bert/optimization.py:87: The name tf.train.Optimizer is deprecated. Please use tf.compat.v1.train.Optimizer instead.\n",
      "\n"
     ]
    }
   ],
   "source": [
    "import os\n",
    "# workDir = os.path.join(os.getcwd(), \"generative_language_model\")\n",
    "workDir = os.getcwd()\n",
    "workDir\n",
    "\n",
    "%matplotlib inline\n",
    "import warnings\n",
    "warnings.filterwarnings('ignore')\n",
    "import importlib\n",
    "#import generative_language_model.utils.functions as custom_functions\n",
    "import utils.functions as custom_functions\n",
    "import matplotlib.pyplot as plt\n",
    "import numpy as np\n",
    "from keras.models import load_model\n",
    "from IPython.display import Image\n",
    "import bert\n",
    "from bert import run_classifier, optimization, tokenization\n",
    "\n",
    "import re\n",
    "from bert.tokenization import FullTokenizer\n",
    "from tqdm import tqdm_notebook\n",
    "from tensorflow.keras import backend as K\n",
    "\n",
    "from sklearn.model_selection import train_test_split\n",
    "import pandas as pd\n",
    "import tensorflow as tf\n",
    "import tensorflow_hub as hub\n",
    "from datetime import datetime\n",
    "from tensorflow import keras\n",
    "import pickle"
   ]
  },
  {
   "cell_type": "code",
   "execution_count": 2,
   "metadata": {},
   "outputs": [
    {
     "data": {
      "text/plain": [
       "<module 'utils.functions' from '/home/migueljaime/generative_language_model/utils/functions.py'>"
      ]
     },
     "execution_count": 2,
     "metadata": {},
     "output_type": "execute_result"
    }
   ],
   "source": [
    "import imp\n",
    "imp.reload(custom_functions)"
   ]
  },
  {
   "cell_type": "code",
   "execution_count": 3,
   "metadata": {},
   "outputs": [],
   "source": [
    "def is_popular(val, threshold):\n",
    "    if int(val) > threshold: new_val = 1\n",
    "    else: new_val = 0\n",
    "    return int(new_val)\n",
    "\n",
    "def read_and_process_data(dfs, visualize=False):\n",
    "    ''' remove RTs and duplicates from twitter data\n",
    "    \n",
    "    :param df: a list of dataframes with twitter data\n",
    "      to process\n",
    "    :optional visualize: display scatterplot of data before\n",
    "      and after cleanup, defaults to False\n",
    "    :return clean_df: a cleaned & merged twitter dataset\n",
    "    '''    \n",
    "    comp_df = pd.concat(dfs).drop_duplicates().reset_index(drop=True)\n",
    "    \n",
    "    if visualize:\n",
    "        comp_df.plot.scatter(x='fav', y='rt')\n",
    "        \n",
    "    deduped_df = comp_df.drop_duplicates(subset='tweet')\n",
    "    deduped_no_rts_df = deduped_df[~deduped_df['tweet'].str.startswith('RT @')]\n",
    "    deduped_no_rts_df['is_popular'] = deduped_no_rts_df['fav'].apply(lambda x: is_popular(x, 25))\n",
    "    deduped_no_rts_df.rename(columns={\"tweet\": \"body\"}, inplace=True)\n",
    "    display(deduped_no_rts_df.head())\n",
    "    if visualize:\n",
    "        deduped_no_rts_df.plot.scatter(x='fav', y='rt', c='is_popular', cmap='viridis', alpha=0.5)\n",
    "        \n",
    "    return(deduped_no_rts_df)"
   ]
  },
  {
   "cell_type": "code",
   "execution_count": 4,
   "metadata": {},
   "outputs": [
    {
     "data": {
      "text/html": [
       "<div>\n",
       "<style scoped>\n",
       "    .dataframe tbody tr th:only-of-type {\n",
       "        vertical-align: middle;\n",
       "    }\n",
       "\n",
       "    .dataframe tbody tr th {\n",
       "        vertical-align: top;\n",
       "    }\n",
       "\n",
       "    .dataframe thead th {\n",
       "        text-align: right;\n",
       "    }\n",
       "</style>\n",
       "<table border=\"1\" class=\"dataframe\">\n",
       "  <thead>\n",
       "    <tr style=\"text-align: right;\">\n",
       "      <th></th>\n",
       "      <th>screen_name</th>\n",
       "      <th>fav</th>\n",
       "      <th>rt</th>\n",
       "      <th>body</th>\n",
       "      <th>tweet_url</th>\n",
       "      <th>is_popular</th>\n",
       "    </tr>\n",
       "  </thead>\n",
       "  <tbody>\n",
       "    <tr>\n",
       "      <th>0</th>\n",
       "      <td>kwilliams56</td>\n",
       "      <td>0</td>\n",
       "      <td>0</td>\n",
       "      <td>@DhaSickest I don’t know if the officer had pr...</td>\n",
       "      <td>https://twitter.com/kwilliams56/status/1156265...</td>\n",
       "      <td>0</td>\n",
       "    </tr>\n",
       "    <tr>\n",
       "      <th>2</th>\n",
       "      <td>MilsterMil</td>\n",
       "      <td>0</td>\n",
       "      <td>0</td>\n",
       "      <td>@Costello_stats @globalnews Not surprising giv...</td>\n",
       "      <td>https://twitter.com/MilsterMil/status/11562649...</td>\n",
       "      <td>0</td>\n",
       "    </tr>\n",
       "    <tr>\n",
       "      <th>6</th>\n",
       "      <td>krownchiu</td>\n",
       "      <td>0</td>\n",
       "      <td>0</td>\n",
       "      <td>\"The quantum cosmological model wants to descr...</td>\n",
       "      <td>https://twitter.com/krownchiu/status/115626479...</td>\n",
       "      <td>0</td>\n",
       "    </tr>\n",
       "    <tr>\n",
       "      <th>8</th>\n",
       "      <td>TamaraBurks</td>\n",
       "      <td>0</td>\n",
       "      <td>0</td>\n",
       "      <td>#Lessors can apply a general reserve to operat...</td>\n",
       "      <td>https://twitter.com/TamaraBurks/status/1156264...</td>\n",
       "      <td>0</td>\n",
       "    </tr>\n",
       "    <tr>\n",
       "      <th>10</th>\n",
       "      <td>LarryWitkovski</td>\n",
       "      <td>0</td>\n",
       "      <td>0</td>\n",
       "      <td>@FleischmanSteve @LuvnlightCreek @buddylady52 ...</td>\n",
       "      <td>https://twitter.com/LarryWitkovski/status/1156...</td>\n",
       "      <td>0</td>\n",
       "    </tr>\n",
       "  </tbody>\n",
       "</table>\n",
       "</div>"
      ],
      "text/plain": [
       "       screen_name  fav  rt  \\\n",
       "0      kwilliams56    0   0   \n",
       "2       MilsterMil    0   0   \n",
       "6        krownchiu    0   0   \n",
       "8      TamaraBurks    0   0   \n",
       "10  LarryWitkovski    0   0   \n",
       "\n",
       "                                                 body  \\\n",
       "0   @DhaSickest I don’t know if the officer had pr...   \n",
       "2   @Costello_stats @globalnews Not surprising giv...   \n",
       "6   \"The quantum cosmological model wants to descr...   \n",
       "8   #Lessors can apply a general reserve to operat...   \n",
       "10  @FleischmanSteve @LuvnlightCreek @buddylady52 ...   \n",
       "\n",
       "                                            tweet_url  is_popular  \n",
       "0   https://twitter.com/kwilliams56/status/1156265...           0  \n",
       "2   https://twitter.com/MilsterMil/status/11562649...           0  \n",
       "6   https://twitter.com/krownchiu/status/115626479...           0  \n",
       "8   https://twitter.com/TamaraBurks/status/1156264...           0  \n",
       "10  https://twitter.com/LarryWitkovski/status/1156...           0  "
      ]
     },
     "metadata": {},
     "output_type": "display_data"
    },
    {
     "data": {
      "text/plain": [
       "(22853, 6)"
      ]
     },
     "execution_count": 4,
     "metadata": {},
     "output_type": "execute_result"
    }
   ],
   "source": [
    "regular_tweets = pd.read_csv('data/regular_tweets_combined.csv', engine='python')\n",
    "popular_tweets = pd.read_csv('data/popular_tweets_combined.csv', engine='python')\n",
    "\n",
    "df_data = read_and_process_data([regular_tweets, popular_tweets])\n",
    "df_data.to_csv('data/all_tweets_clean.csv', index=False)\n",
    "df_data.shape\n"
   ]
  },
  {
   "cell_type": "markdown",
   "metadata": {},
   "source": [
    "# Loading Up BERT Model"
   ]
  },
  {
   "cell_type": "code",
   "execution_count": 68,
   "metadata": {},
   "outputs": [],
   "source": [
    "# Initialize session\n",
    "sess = tf.Session()\n",
    "\n",
    "# Params for bert model and tokenization\n",
    "bert_path = \"https://tfhub.dev/google/bert_uncased_L-12_H-768_A-12/1\"\n",
    "max_seq_length = 150"
   ]
  },
  {
   "cell_type": "code",
   "execution_count": 69,
   "metadata": {},
   "outputs": [],
   "source": [
    "max_seq_length = 70\n",
    "\n",
    "train_df, test_df = train_test_split(df_data, test_size=0.3)\n",
    "file_twitter = open(os.path.join(workDir, \"data/twitter_train_test_smaller.pkl\"),'wb')\n",
    "\n",
    "pickle.dump(train_df, file_twitter)\n",
    "pickle.dump(test_df, file_twitter)\n",
    "\n",
    "file_twitter.close()"
   ]
  },
  {
   "cell_type": "code",
   "execution_count": 70,
   "metadata": {},
   "outputs": [],
   "source": [
    "train_text, train_label = custom_functions.create_labeled_data(train_df, text_col='body', max_seq_length=max_seq_length)\n",
    "test_text, test_label = custom_functions.create_labeled_data(test_df, text_col='body', max_seq_length=max_seq_length)"
   ]
  },
  {
   "cell_type": "code",
   "execution_count": 71,
   "metadata": {},
   "outputs": [],
   "source": [
    "## run the class functions\n",
    "class PaddingInputExample(object):\n",
    "    \"\"\"Fake example so the num input examples is a multiple of the batch size.\n",
    "  When running eval/predict on the TPU, we need to pad the number of examples\n",
    "  to be a multiple of the batch size, because the TPU requires a fixed batch\n",
    "  size. The alternative is to drop the last batch, which is bad because it means\n",
    "  the entire output data won't be generated.\n",
    "  We use this class instead of `None` because treating `None` as padding\n",
    "  battches could cause silent errors.\n",
    "  \"\"\"\n",
    "\n",
    "class InputExample(object):\n",
    "    \"\"\"A single training/test example for simple sequence classification.\"\"\"\n",
    "\n",
    "    def __init__(self, guid, text_a, text_b=None, label=None):\n",
    "        \"\"\"Constructs a InputExample.\n",
    "    Args:\n",
    "      guid: Unique id for the example.\n",
    "      text_a: string. The untokenized text of the first sequence. For single\n",
    "        sequence tasks, only this sequence must be specified.\n",
    "      text_b: (Optional) string. The untokenized text of the second sequence.\n",
    "        Only must be specified for sequence pair tasks.\n",
    "      label: (Optional) string. The label of the example. This should be\n",
    "        specified for train and dev examples, but not for test examples.\n",
    "    \"\"\"\n",
    "        self.guid = guid\n",
    "        self.text_a = text_a\n",
    "        self.text_b = text_b\n",
    "        self.label = label\n",
    "\n",
    "def create_tokenizer_from_hub_module():\n",
    "    \"\"\"Get the vocab file and casing info from the Hub module.\"\"\"\n",
    "    bert_module =  hub.Module(bert_path)\n",
    "    tokenization_info = bert_module(signature=\"tokenization_info\", as_dict=True)\n",
    "    vocab_file, do_lower_case = sess.run(\n",
    "        [\n",
    "            tokenization_info[\"vocab_file\"],\n",
    "            tokenization_info[\"do_lower_case\"],\n",
    "        ]\n",
    "    )\n",
    "\n",
    "    return FullTokenizer(vocab_file=vocab_file, do_lower_case=do_lower_case)\n",
    "\n",
    "def convert_single_example(tokenizer, example, max_seq_length=70):\n",
    "    \"\"\"Converts a single `InputExample` into a single `InputFeatures`.\"\"\"\n",
    "\n",
    "    if isinstance(example, PaddingInputExample):\n",
    "        input_ids = [0] * max_seq_length\n",
    "        input_mask = [0] * max_seq_length\n",
    "        segment_ids = [0] * max_seq_length\n",
    "        label = 0\n",
    "        return input_ids, input_mask, segment_ids, label\n",
    "\n",
    "    tokens_a = tokenizer.tokenize(example.text_a)\n",
    "    if len(tokens_a) > max_seq_length - 2:\n",
    "        tokens_a = tokens_a[0 : (max_seq_length - 2)]\n",
    "\n",
    "    tokens = []\n",
    "    segment_ids = []\n",
    "    tokens.append(\"[CLS]\")\n",
    "    segment_ids.append(0)\n",
    "    for token in tokens_a:\n",
    "        tokens.append(token)\n",
    "        segment_ids.append(0)\n",
    "    tokens.append(\"[SEP]\")\n",
    "    segment_ids.append(0)\n",
    "\n",
    "    input_ids = tokenizer.convert_tokens_to_ids(tokens)\n",
    "\n",
    "    # The mask has 1 for real tokens and 0 for padding tokens. Only real\n",
    "    # tokens are attended to.\n",
    "    input_mask = [1] * len(input_ids)\n",
    "\n",
    "    # Zero-pad up to the sequence length.\n",
    "    while len(input_ids) < max_seq_length:\n",
    "        input_ids.append(0)\n",
    "        input_mask.append(0)\n",
    "        segment_ids.append(0)\n",
    "\n",
    "    assert len(input_ids) == max_seq_length\n",
    "    assert len(input_mask) == max_seq_length\n",
    "    assert len(segment_ids) == max_seq_length\n",
    "\n",
    "    return input_ids, input_mask, segment_ids, example.label\n",
    "\n",
    "def convert_examples_to_features(tokenizer, examples, max_seq_length=70):\n",
    "    \"\"\"Convert a set of `InputExample`s to a list of `InputFeatures`.\"\"\"\n",
    "\n",
    "    input_ids, input_masks, segment_ids, labels = [], [], [], []\n",
    "    for example in tqdm_notebook(examples, desc=\"Converting examples to features\"):\n",
    "        input_id, input_mask, segment_id, label = convert_single_example(\n",
    "            tokenizer, example, max_seq_length\n",
    "        )\n",
    "        input_ids.append(input_id)\n",
    "        input_masks.append(input_mask)\n",
    "        segment_ids.append(segment_id)\n",
    "        labels.append(label)\n",
    "    return (\n",
    "        np.array(input_ids),\n",
    "        np.array(input_masks),\n",
    "        np.array(segment_ids),\n",
    "        np.array(labels).reshape(-1, 1),\n",
    "    )\n",
    "\n",
    "def convert_text_to_examples(texts, labels):\n",
    "    \"\"\"Create InputExamples\"\"\"\n",
    "    InputExamples = []\n",
    "    for text, label in zip(texts, labels):\n",
    "        InputExamples.append(\n",
    "            InputExample(guid=None, text_a=\" \".join(text), text_b=None, label=label)\n",
    "        )\n",
    "    return InputExamples"
   ]
  },
  {
   "cell_type": "code",
   "execution_count": 73,
   "metadata": {},
   "outputs": [
    {
     "data": {
      "application/vnd.jupyter.widget-view+json": {
       "model_id": "8f5f1b235c6a4799843bf7cca5d2b529",
       "version_major": 2,
       "version_minor": 0
      },
      "text/plain": [
       "HBox(children=(IntProgress(value=0, description='Converting examples to features', max=15997), HTML(value=''))…"
      ]
     },
     "metadata": {},
     "output_type": "display_data"
    },
    {
     "name": "stdout",
     "output_type": "stream",
     "text": [
      "\n"
     ]
    },
    {
     "data": {
      "application/vnd.jupyter.widget-view+json": {
       "model_id": "4d00cd4226004808ab3f2a3341ee70d0",
       "version_major": 2,
       "version_minor": 0
      },
      "text/plain": [
       "HBox(children=(IntProgress(value=0, description='Converting examples to features', max=6856), HTML(value='')))"
      ]
     },
     "metadata": {},
     "output_type": "display_data"
    },
    {
     "name": "stdout",
     "output_type": "stream",
     "text": [
      "\n"
     ]
    }
   ],
   "source": [
    "# Instantiate tokenizer\n",
    "tokenizer = create_tokenizer_from_hub_module()\n",
    "\n",
    "## tokeninze and the rest of preprocessing for bert\n",
    "# Convert data to InputExample format\n",
    "train_examples = convert_text_to_examples(train_text, train_label)\n",
    "# Convert to features\n",
    "(train_input_ids, train_input_masks, train_segment_ids, train_labels \n",
    ") = convert_examples_to_features(tokenizer, train_examples, max_seq_length=max_seq_length)\n",
    "\n",
    "# Convert data to InputExample format\n",
    "test_examples = convert_text_to_examples(test_text, test_label)\n",
    "# Convert to features\n",
    "(test_input_ids, test_input_masks, test_segment_ids, test_labels\n",
    ") = convert_examples_to_features(tokenizer, test_examples, max_seq_length=max_seq_length)\n",
    "\n",
    "## pickle save these\n",
    "final_file = open(os.path.join(workDir, \"data/processed_twitter_train_small.pkl\"),'wb')\n",
    "\n",
    "pickle.dump(train_input_ids, final_file)\n",
    "pickle.dump(train_input_masks, final_file)\n",
    "pickle.dump(train_segment_ids, final_file)\n",
    "pickle.dump(train_labels, final_file)\n",
    "\n",
    "final_file.close()\n",
    "\n",
    "final_file = open(os.path.join(workDir, \"data/processed_twitter_test_small.pkl\"),'wb')\n",
    "\n",
    "pickle.dump(test_input_ids, final_file)\n",
    "pickle.dump(test_input_masks, final_file)\n",
    "pickle.dump(test_segment_ids, final_file)\n",
    "pickle.dump(test_labels, final_file)\n",
    "\n",
    "final_file.close()\n"
   ]
  }
 ],
 "metadata": {
  "kernelspec": {
   "display_name": "Python 3",
   "language": "python",
   "name": "python3"
  },
  "language_info": {
   "codemirror_mode": {
    "name": "ipython",
    "version": 3
   },
   "file_extension": ".py",
   "mimetype": "text/x-python",
   "name": "python",
   "nbconvert_exporter": "python",
   "pygments_lexer": "ipython3",
   "version": "3.7.0"
  }
 },
 "nbformat": 4,
 "nbformat_minor": 2
}
