{
 "cells": [
  {
   "cell_type": "code",
   "execution_count": 1,
   "metadata": {},
   "outputs": [
    {
     "name": "stderr",
     "output_type": "stream",
     "text": [
      "Using TensorFlow backend.\n"
     ]
    }
   ],
   "source": [
    "import sqlite3\n",
    "import pandas as pd\n",
    "import re\n",
    "import keras\n",
    "from unicodedata import normalize\n",
    "import utils.functions as custom_functions\n",
    "import psutil"
   ]
  },
  {
   "cell_type": "code",
   "execution_count": 2,
   "metadata": {},
   "outputs": [
    {
     "data": {
      "text/plain": [
       "<module 'utils.functions' from '/home/migueljaime/generative_language_model/utils/functions.py'>"
      ]
     },
     "execution_count": 2,
     "metadata": {},
     "output_type": "execute_result"
    }
   ],
   "source": [
    "import imp\n",
    "imp.reload(custom_functions)"
   ]
  },
  {
   "cell_type": "code",
   "execution_count": 3,
   "metadata": {},
   "outputs": [],
   "source": [
    "sqlite_file = 'data/database.sqlite'\n",
    "db = custom_functions.create_connection(sqlite_file)"
   ]
  },
  {
   "cell_type": "code",
   "execution_count": 4,
   "metadata": {
    "scrolled": true
   },
   "outputs": [],
   "source": [
    "# get a small sample\n",
    "#small_sample = custom_functions.get_sample(nrows=50000, db=db)\n",
    "#display(small_sample)\n",
    "\n",
    "# save as csv\n",
    "#small_sample.to_csv('data/reddit_small_sample.csv', index = False)"
   ]
  },
  {
   "cell_type": "code",
   "execution_count": 5,
   "metadata": {},
   "outputs": [],
   "source": [
    "#unique_ids = set(small_sample.id.unique())\n",
    "#unique_parent_ids = set(small_sample.parent_id.unique())\n",
    "\n",
    "#len(unique_ids & unique_parent_ids)"
   ]
  },
  {
   "cell_type": "code",
   "execution_count": 4,
   "metadata": {},
   "outputs": [
    {
     "data": {
      "text/plain": [
       "svmem(total=27389468672, available=26537771008, percent=3.1, used=493641728, free=26349547520, active=462888960, inactive=345579520, buffers=60256256, cached=486023168, shared=913408, slab=95141888)"
      ]
     },
     "execution_count": 4,
     "metadata": {},
     "output_type": "execute_result"
    }
   ],
   "source": [
    "psutil.virtual_memory()"
   ]
  },
  {
   "cell_type": "code",
   "execution_count": 5,
   "metadata": {},
   "outputs": [
    {
     "name": "stdout",
     "output_type": "stream",
     "text": [
      "df_1 count subreddit    3194687\n",
      "ups          3194687\n",
      "downs        3194687\n",
      "score        3194687\n",
      "body         3194687\n",
      "id           3194687\n",
      "name         3194687\n",
      "link_id      3194687\n",
      "parent_id    3194687\n",
      "dtype: int64\n"
     ]
    },
    {
     "data": {
      "text/plain": [
       "svmem(total=27389468672, available=23100989440, percent=15.7, used=3909038080, free=4219768832, active=22540546048, inactive=347738112, buffers=60493824, cached=19200167936, shared=913408, slab=138711040)"
      ]
     },
     "execution_count": 5,
     "metadata": {},
     "output_type": "execute_result"
    }
   ],
   "source": [
    "df_1 = custom_functions.get_sample(nrows=2000000, db=db)\n",
    "print(\"df_1 count\", df_1.count())\n",
    "psutil.virtual_memory()"
   ]
  },
  {
   "cell_type": "code",
   "execution_count": 6,
   "metadata": {},
   "outputs": [
    {
     "name": "stdout",
     "output_type": "stream",
     "text": [
      "df_2 count subreddit    3200195\n",
      "ups          3200195\n",
      "downs        3200195\n",
      "score        3200195\n",
      "body         3200195\n",
      "id           3200195\n",
      "name         3200195\n",
      "link_id      3200195\n",
      "parent_id    3200195\n",
      "dtype: int64\n"
     ]
    },
    {
     "data": {
      "text/plain": [
       "svmem(total=27389468672, available=20810383360, percent=24.0, used=6199611392, free=1928990720, active=24826040320, inactive=347734016, buffers=60637184, cached=19200229376, shared=913408, slab=138817536)"
      ]
     },
     "execution_count": 6,
     "metadata": {},
     "output_type": "execute_result"
    }
   ],
   "source": [
    "df_2 = custom_functions.get_sample(nrows=2000000, db=db)\n",
    "print(\"df_2 count\", df_2.count())\n",
    "psutil.virtual_memory()"
   ]
  },
  {
   "cell_type": "code",
   "execution_count": 7,
   "metadata": {},
   "outputs": [
    {
     "name": "stdout",
     "output_type": "stream",
     "text": [
      "df_3 count subreddit    3195679\n",
      "ups          3195679\n",
      "downs        3195679\n",
      "score        3195679\n",
      "body         3195679\n",
      "id           3195679\n",
      "name         3195679\n",
      "link_id      3195679\n",
      "parent_id    3195679\n",
      "dtype: int64\n"
     ]
    },
    {
     "data": {
      "text/plain": [
       "svmem(total=27389468672, available=18626809856, percent=32.0, used=8388591616, free=367726592, active=24875728896, inactive=1864306688, buffers=23560192, cached=18609590272, shared=913408, slab=128503808)"
      ]
     },
     "execution_count": 7,
     "metadata": {},
     "output_type": "execute_result"
    }
   ],
   "source": [
    "df_3 = custom_functions.get_sample(nrows=2000000, db=db)\n",
    "print(\"df_3 count\", df_3.count())\n",
    "psutil.virtual_memory()"
   ]
  },
  {
   "cell_type": "code",
   "execution_count": 8,
   "metadata": {},
   "outputs": [
    {
     "name": "stdout",
     "output_type": "stream",
     "text": [
      "df_4 count subreddit    3198435\n",
      "ups          3198435\n",
      "downs        3198435\n",
      "score        3198435\n",
      "body         3198435\n",
      "id           3198435\n",
      "name         3198435\n",
      "link_id      3198435\n",
      "parent_id    3198435\n",
      "dtype: int64\n"
     ]
    },
    {
     "data": {
      "text/plain": [
       "svmem(total=27389468672, available=16364232704, percent=40.3, used=10651521024, free=362561536, active=19615932416, inactive=7126167552, buffers=5947392, cached=16369438720, shared=913408, slab=127733760)"
      ]
     },
     "execution_count": 8,
     "metadata": {},
     "output_type": "execute_result"
    }
   ],
   "source": [
    "df_4 = custom_functions.get_sample(nrows=2000000, db=db)\n",
    "print(\"df_4 count\", df_4.count())\n",
    "psutil.virtual_memory()"
   ]
  },
  {
   "cell_type": "code",
   "execution_count": 9,
   "metadata": {},
   "outputs": [
    {
     "name": "stdout",
     "output_type": "stream",
     "text": [
      "df_5 count subreddit    3193541\n",
      "ups          3193541\n",
      "downs        3193541\n",
      "score        3193541\n",
      "body         3193541\n",
      "id           3193541\n",
      "name         3193541\n",
      "link_id      3193541\n",
      "parent_id    3193541\n",
      "dtype: int64\n"
     ]
    },
    {
     "data": {
      "text/plain": [
       "svmem(total=27389468672, available=14078701568, percent=48.6, used=12937244672, free=347418624, active=19947515904, inactive=6806409216, buffers=4030464, cached=14100774912, shared=913408, slab=127426560)"
      ]
     },
     "execution_count": 9,
     "metadata": {},
     "output_type": "execute_result"
    }
   ],
   "source": [
    "df_5 = custom_functions.get_sample(nrows=2000000, db=db)\n",
    "print(\"df_5 count\", df_5.count())\n",
    "psutil.virtual_memory()"
   ]
  },
  {
   "cell_type": "code",
   "execution_count": 18,
   "metadata": {},
   "outputs": [],
   "source": [
    "ex_id = set(df_1.id.unique())\n",
    "df_2_nd, ex_id = custom_functions.remove_duplicates(df_2, ex_id)\n",
    "df_3_nd, ex_id = custom_functions.remove_duplicates(df_3, ex_id)\n",
    "df_4_nd, ex_id = custom_functions.remove_duplicates(df_4, ex_id)\n",
    "df_5_nd, ex_id = custom_functions.remove_duplicates(df_5, ex_id)"
   ]
  },
  {
   "cell_type": "code",
   "execution_count": 19,
   "metadata": {},
   "outputs": [
    {
     "name": "stdout",
     "output_type": "stream",
     "text": [
      "df_1 count 3194687\n",
      "df_2 count 3200195\n",
      "df_2_nd count 2945484\n",
      "df_3 count 3195679\n",
      "df_3_nd count 2722036\n",
      "df_4 count 3198435\n",
      "df_4_nd count 2531145\n",
      "df_5 count 3193541\n",
      "df_5_nd count 2355047\n",
      "df_2 count 3200195\n",
      "df_2_nd count 2945484\n",
      "unique ids 13573126\n",
      "calcilated unique ids 13748399\n"
     ]
    },
    {
     "data": {
      "text/plain": [
       "svmem(total=27389468672, available=12612059136, percent=54.0, used=14404390912, free=903544832, active=21373079552, inactive=4823416832, buffers=19820544, cached=12061712384, shared=913408, slab=126484480)"
      ]
     },
     "execution_count": 19,
     "metadata": {},
     "output_type": "execute_result"
    }
   ],
   "source": [
    "print(\"df_1 count\", df_1.id.count())\n",
    "\n",
    "print(\"df_2 count\", df_2.id.count())\n",
    "print(\"df_2_nd count\", df_2_nd.id.count())\n",
    "\n",
    "print(\"df_3 count\", df_3.id.count())\n",
    "print(\"df_3_nd count\", df_3_nd.id.count())\n",
    "\n",
    "print(\"df_4 count\", df_4.id.count())\n",
    "print(\"df_4_nd count\", df_4_nd.id.count())\n",
    "\n",
    "print(\"df_5 count\", df_5.id.count())\n",
    "print(\"df_5_nd count\", df_5_nd.id.count())\n",
    "\n",
    "print(\"df_2 count\", df_2.id.count())\n",
    "print(\"df_2_nd count\", df_2_nd.id.count())\n",
    "\n",
    "print(\"unique ids\", len(ex_id))\n",
    "print(\"calculated unique ids\", df_1.id.count() + df_2_nd.id.count() + df_3_nd.id.count() + df_4_nd.id.count() + df_5_nd.id.count())\n",
    "\n",
    "psutil.virtual_memory()"
   ]
  },
  {
   "cell_type": "code",
   "execution_count": 20,
   "metadata": {},
   "outputs": [
    {
     "data": {
      "text/plain": [
       "svmem(total=27389468672, available=11536846848, percent=57.9, used=15480393728, free=2571624448, active=22361698304, inactive=2162274304, buffers=30539776, cached=9306910720, shared=925696, slab=126038016)"
      ]
     },
     "execution_count": 20,
     "metadata": {},
     "output_type": "execute_result"
    }
   ],
   "source": [
    "yuge_df = pd.concat([df_1, df_2_nd, df_3_nd, df_4_nd, df_5_nd]).drop_duplicates().reset_index(drop=True)\n",
    "psutil.virtual_memory()"
   ]
  },
  {
   "cell_type": "code",
   "execution_count": 22,
   "metadata": {},
   "outputs": [],
   "source": [
    "yuge_df.to_csv('data/reddit_yuge_sample.csv', index=False)"
   ]
  }
 ],
 "metadata": {
  "kernelspec": {
   "display_name": "Python 3",
   "language": "python",
   "name": "python3"
  },
  "language_info": {
   "codemirror_mode": {
    "name": "ipython",
    "version": 3
   },
   "file_extension": ".py",
   "mimetype": "text/x-python",
   "name": "python",
   "nbconvert_exporter": "python",
   "pygments_lexer": "ipython3",
   "version": "3.7.0"
  }
 },
 "nbformat": 4,
 "nbformat_minor": 2
}
